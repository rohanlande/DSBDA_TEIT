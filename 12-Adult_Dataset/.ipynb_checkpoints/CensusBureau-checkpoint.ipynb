{
 "cells": [
  {
   "cell_type": "code",
   "execution_count": 1,
   "id": "f8ca5ebd",
   "metadata": {},
   "outputs": [],
   "source": [
    "import numpy as np\n",
    "import pandas as pd"
   ]
  },
  {
   "cell_type": "code",
   "execution_count": null,
   "id": "4a9e8c0a",
   "metadata": {},
   "outputs": [],
   "source": [
    "cols = ['Age','Workclass',\"Fnlwgt\",\"Education\",\"Marital_status\",\"Occupation\",\"Relationship\",\"Race\",\"Sex\",\"Capital_gain\",\"Capital_loss\",\"Hours_per_week\",\"Native_Country\"]"
   ]
  }
 ],
 "metadata": {
  "kernelspec": {
   "display_name": "Python 3 (ipykernel)",
   "language": "python",
   "name": "python3"
  },
  "language_info": {
   "codemirror_mode": {
    "name": "ipython",
    "version": 3
   },
   "file_extension": ".py",
   "mimetype": "text/x-python",
   "name": "python",
   "nbconvert_exporter": "python",
   "pygments_lexer": "ipython3",
   "version": "3.10.7"
  }
 },
 "nbformat": 4,
 "nbformat_minor": 5
}
